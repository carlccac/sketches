{
 "cells": [
  {
   "cell_type": "code",
   "execution_count": 1,
   "metadata": {},
   "outputs": [
    {
     "name": "stdout",
     "output_type": "stream",
     "text": [
      "Choose a, b or exit\n",
      "enter: a 34 joe\n",
      "a... ['34', 'joe']\n",
      "Choose a, b or exit\n",
      "enter: b 56 jim cat\n",
      "b... ['56', 'jim', 'cat']\n",
      "Choose a, b or exit\n",
      "enter: a 87 34 21 jane\n",
      "a... ['87', '34', '21', 'jane']\n",
      "Choose a, b or exit\n",
      "enter: d\n",
      "not valid input\n",
      "enter: exit\n",
      "exited\n"
     ]
    }
   ],
   "source": [
    "def a(x): print('a...', x) \n",
    "def b(x): print('b...', x)\n",
    "\n",
    "def uin(x): \n",
    "    flag = True\n",
    "    while flag: \n",
    "        inp = input('enter: ').split()\n",
    "        if inp[0] in x.keys(): uin.v1, uin.v2 = inp[0], inp[1:]; flag = False\n",
    "        else: print('not valid input')\n",
    "            \n",
    "d={'a': a, 'b': b, 'exit': lambda x: True}\n",
    "\n",
    "def menu(): print('Choose a, b or exit')\n",
    "    \n",
    "flag = None\n",
    "while flag == None: menu(); uin(d); flag = d[uin.v1](uin.v2)\n",
    "\n",
    "print('exited')\n"
   ]
  },
  {
   "cell_type": "code",
   "execution_count": null,
   "metadata": {},
   "outputs": [],
   "source": []
  }
 ],
 "metadata": {
  "kernelspec": {
   "display_name": "Python 3",
   "language": "python",
   "name": "python3"
  },
  "language_info": {
   "codemirror_mode": {
    "name": "ipython",
    "version": 3
   },
   "file_extension": ".py",
   "mimetype": "text/x-python",
   "name": "python",
   "nbconvert_exporter": "python",
   "pygments_lexer": "ipython3",
   "version": "3.8.3"
  }
 },
 "nbformat": 4,
 "nbformat_minor": 4
}
