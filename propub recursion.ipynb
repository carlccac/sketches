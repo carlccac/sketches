{
 "cells": [
  {
   "cell_type": "code",
   "execution_count": 1,
   "metadata": {},
   "outputs": [],
   "source": [
    "import requests, json; import pandas as pd\n",
    "pd.set_option('display.max_rows', None); pd.set_option('display.width', 1000)\n",
    "\n",
    "def er(url, head): \n",
    "    global r; r = requests.get(url, headers = head)\n",
    "    if r.status_code != 200: er(url, head) \n",
    "    if r.text[11:13] != 'OK': er(url, head)\n",
    "    return r\n",
    "\n",
    "\n",
    "def st(state):\n",
    "    df = pd.DataFrame(columns=['st', 'dist', 'name', 'id', 'party', 'total', 'pac', 'win'])\n",
    "    u = 'https://api.propublica.org/campaign-finance/v1/2020'\n",
    "    h = {'X-API-Key': '1Jhq0HWz3e6q5NKZ2mwfa2GuoxedWAOKzhueEJgj'}\n",
    "    cans = er(u+'/races/%s/house.json' %state, h).json()['results']\n",
    "    \n",
    "    for i in range(len(cans)):\n",
    "        df = df.append({'st': state,\n",
    "                        'name': cans[i]['candidate']['name'].lower(), \n",
    "                        'id': cans[i]['candidate']['id'], \n",
    "                        'party':cans[i]['candidate']['party'],},ignore_index = True)\n",
    "        \n",
    "    for j in range(len(df)):\n",
    "        can_data = er(u+'/candidates/%s.json' %(df.iloc[j,3]), h).json()\n",
    "        district = can_data['results'][0]['district']\n",
    "        df.iat[j,1] = 98 if district == None else 99 if not district[16:18].isnumeric() else int(district[16:18])\n",
    "        df.iat[j,5] = int(can_data['results'][0]['total_contributions'])\n",
    "        df.iat[j,6] = int(can_data['results'][0]['total_from_pacs'])\n",
    "    \n",
    "    return df"
   ]
  },
  {
   "cell_type": "code",
   "execution_count": 2,
   "metadata": {},
   "outputs": [],
   "source": [
    "states = ['AL', 'AK', 'AZ', 'AR', 'CA', 'CO', 'CT', 'DE', 'FL', 'GA', 'HI', 'ID', 'IL', 'IN', 'IA', 'KS', 'KY', \n",
    "    'LA', 'ME', 'MD', 'MA', 'MI', 'MN', 'MS', 'MO', 'MT', 'NE', 'NV', 'NH', 'NJ', 'NM', 'NY', 'NC', 'ND', \n",
    "    'OH', 'OK', 'OR', 'PA', 'RI', 'SC', 'SD', 'TN', 'TX', 'UT', 'VT', 'VA', 'WA', 'WV', 'WI', 'WY']"
   ]
  },
  {
   "cell_type": "code",
   "execution_count": 3,
   "metadata": {},
   "outputs": [],
   "source": [
    "al = st(states[0])"
   ]
  },
  {
   "cell_type": "code",
   "execution_count": 4,
   "metadata": {},
   "outputs": [
    {
     "name": "stdout",
     "output_type": "stream",
     "text": [
      "    st dist                                    name         id party    total      pac  win\n",
      "0   AL    4                aderholt, robert b. rep.  H6AL04098   REP  1280421   739300  NaN\n",
      "1   AL    1                        catalano, thomas  H0AL01147   OTH        0        0  NaN\n",
      "2   AL    2                         taylor, jessica  H0AL02178   REP   468809    29505  NaN\n",
      "3   AL    6                            palmer, gary  H4AL06098   REP   866770   397600  NaN\n",
      "4   AL    2                          dismukes, will  H0AL02137   REP    15043        0  NaN\n",
      "5   AL    2                        rogers, robert l  H6AL02159   REP    23574        0  NaN\n",
      "6   AL    2                          mathis, nathan  H6AL02167   DEM    12230        0  NaN\n",
      "7   AL    6                      allen, anders pope  H0AL06104   REP        0        0  NaN\n",
      "8   AL    1                     carl, jerry lee, jr  H0AL01055   REP  1437851   387000  NaN\n",
      "9   AL    1               pringle, christopher paul  H0AL01071   REP   491715    27600  NaN\n",
      "10  AL    1                         hightower, bill  H0AL01089   REP  1321956    53200  NaN\n",
      "11  AL    3                        thompson, hannah  H0AL03192   DEM        0        0  NaN\n",
      "12  AL    2                      moore, felix barry  H8AL02171   REP   646815   230281  NaN\n",
      "13  AL    3                           winfrey, adia  H8AL03062   DEM    49973      107  NaN\n",
      "14  AL    2                         hasdorff, terri  H0AL02194   REP    82156        0  NaN\n",
      "15  AL    1                         castorani, john  H0AL01121   REP    11650        0  NaN\n",
      "16  AL    5                              brooks, mo  H0AL05163   REP   667374   250020  NaN\n",
      "17  AL    2               brown, thomas william jr.  H0AL02160   REP     5000        0  NaN\n",
      "18  AL    2                            page, john c  H0AL02186   LIB        0        0  NaN\n",
      "19  AL    5                    strong, dale whitney  H2AL05102   REP        0        0  NaN\n",
      "20  AL    5                            lewis, chris  H0AL05205   REP   137471    15000  NaN\n",
      "21  AL    6               pellegrino, kaynen bryant  H0AL06112   NPA        0        0  NaN\n",
      "22  AL    7                        sewell, terri a.  H0AL07086   DEM  2168365  1760802  NaN\n",
      "23  AL    7               stokes, camron devin hon.  H0AL07193   DEM        0        0  NaN\n",
      "24  AL    2                    harvey-hall, phyllis  H0AL02202   DEM    45462     2032  NaN\n",
      "25  AL    1            lambert, douglas westley iii  H0AL01063   REP    72564     4000  NaN\n",
      "26  AL    1                         averhart, james  H0AL01097   DEM    50849        0  NaN\n",
      "27  AL    1                        gardner, kiani a  H0AL01105   DEM   112661    19000  NaN\n",
      "28  AL    1  romagnano, chase anderson andy reveren  H0AL01113   REP        0        0  NaN\n",
      "29  AL    1             collins, frederick g. rick'  H0AL01139   DEM    62417        0  NaN\n",
      "30  AL    2                            roby, martha  H0AL02087   REP   215300   161500  NaN\n",
      "31  AL    2                           coleman, jeff  H0AL02145   REP  1476944   231000  NaN\n",
      "32  AL    3                         rogers, michael  H2AL03032   REP  1196102   744733  NaN\n",
      "33  AL    2                              king, troy  H0AL02152   REP   286727    11000  NaN\n",
      "34  AL    1                  byrne, bradley roberts  H4AL01123   REP        0        0  NaN\n",
      "35  AL    4                        neighbors, ricky  H8AL04086   DEM    44567     9504  NaN\n"
     ]
    }
   ],
   "source": [
    "print(al)"
   ]
  },
  {
   "cell_type": "code",
   "execution_count": null,
   "metadata": {},
   "outputs": [],
   "source": []
  }
 ],
 "metadata": {
  "kernelspec": {
   "display_name": "Python 3",
   "language": "python",
   "name": "python3"
  },
  "language_info": {
   "codemirror_mode": {
    "name": "ipython",
    "version": 3
   },
   "file_extension": ".py",
   "mimetype": "text/x-python",
   "name": "python",
   "nbconvert_exporter": "python",
   "pygments_lexer": "ipython3",
   "version": "3.8.3"
  }
 },
 "nbformat": 4,
 "nbformat_minor": 4
}
